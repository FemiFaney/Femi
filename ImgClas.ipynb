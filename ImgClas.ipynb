{
  "nbformat": 4,
  "nbformat_minor": 0,
  "metadata": {
    "colab": {
      "name": "ImgClas.ipynb",
      "provenance": [],
      "collapsed_sections": [],
      "authorship_tag": "ABX9TyMtSbn6TD5IWtcIW1Ygn53A",
      "include_colab_link": true
    },
    "kernelspec": {
      "name": "python3",
      "display_name": "Python 3"
    },
    "language_info": {
      "name": "python"
    }
  },
  "cells": [
    {
      "cell_type": "markdown",
      "metadata": {
        "id": "view-in-github",
        "colab_type": "text"
      },
      "source": [
        "<a href=\"https://colab.research.google.com/github/FemiFaney/Femi/blob/main/ImgClas.ipynb\" target=\"_parent\"><img src=\"https://colab.research.google.com/assets/colab-badge.svg\" alt=\"Open In Colab\"/></a>"
      ]
    },
    {
      "cell_type": "code",
      "metadata": {
        "id": "SxfpdAoiwIGF"
      },
      "source": [
        "import os\n",
        "import matplotlib.pyplot as plt\n",
        "import numpy as np\n",
        "from skimage.io import imread\n",
        "from skimage.transform import resize"
      ],
      "execution_count": 1,
      "outputs": []
    },
    {
      "cell_type": "code",
      "metadata": {
        "id": "VtSXON3e9Tg7"
      },
      "source": [
        "target = []\n",
        "images = []\n",
        "flat_data = []\n",
        "\n",
        "DATADIR = '/content/images'\n",
        "CATEGORIES = ['Bag','Bat','Bathtub','Binocular','Cactus', 'Calculator', 'Chopsticks', 'Computer Keyboard',\n",
        "              'Computer Monitor','Computer Mouse', 'Insect','Mug','Radio']"
      ],
      "execution_count": 2,
      "outputs": []
    },
    {
      "cell_type": "code",
      "metadata": {
        "id": "IDf32mPY3SCW"
      },
      "source": [
        "for category in CATEGORIES:\n",
        "  class_num = CATEGORIES.index(category)\n",
        "  #print(class_num)\n",
        "  #print(category)\n",
        "  path = os.path.join(DATADIR,category)\n",
        "  #print(path)\n",
        "  #df =[]\n",
        "  for img in os.listdir(path):\n",
        "    if(img.endswith(\"jpg\")):\n",
        "        #print(os.path.join(path,img))\n",
        "        img_array = imread(os.path.join(path,img))\n",
        "        #df.append(img_array)\n",
        "        #print(img_array)\n",
        "        #print(img_array.shape)\n",
        "        #plt.imshow(img_array)\n",
        "        img_resized = resize(img_array,(150,150,3))\n",
        "        flat_data.append(img_resized.flatten())\n",
        "        images.append(img_resized)\n",
        "        target.append(class_num)\n",
        "\n",
        "flat_data = np.array(flat_data)\n",
        "target = np.array(target)\n",
        "images = np.array(images)"
      ],
      "execution_count": 3,
      "outputs": []
    },
    {
      "cell_type": "code",
      "metadata": {
        "colab": {
          "base_uri": "https://localhost:8080/"
        },
        "id": "GeRuaAKq3V5Q",
        "outputId": "8d3c10ab-6ef2-4d8d-8248-e6f8fd0b30ce"
      },
      "source": [
        "flat_data[0]"
      ],
      "execution_count": 4,
      "outputs": [
        {
          "output_type": "execute_result",
          "data": {
            "text/plain": [
              "array([0.94926797, 0.97227887, 0.9287451 , ..., 0.81266667, 0.8205098 ,\n",
              "       0.80090196])"
            ]
          },
          "metadata": {
            "tags": []
          },
          "execution_count": 4
        }
      ]
    },
    {
      "cell_type": "code",
      "metadata": {
        "colab": {
          "base_uri": "https://localhost:8080/"
        },
        "id": "GK1tWItM3bZk",
        "outputId": "f0b48a83-d187-45ce-f676-4b89cdb1a735"
      },
      "source": [
        "len(flat_data[0])"
      ],
      "execution_count": 5,
      "outputs": [
        {
          "output_type": "execute_result",
          "data": {
            "text/plain": [
              "67500"
            ]
          },
          "metadata": {
            "tags": []
          },
          "execution_count": 5
        }
      ]
    },
    {
      "cell_type": "code",
      "metadata": {
        "colab": {
          "base_uri": "https://localhost:8080/"
        },
        "id": "mIP2Gc0X3dKw",
        "outputId": "3b3e1c12-d7d0-454b-dacc-f0d27dee7e7a"
      },
      "source": [
        "flat_data[0].shape"
      ],
      "execution_count": 6,
      "outputs": [
        {
          "output_type": "execute_result",
          "data": {
            "text/plain": [
              "(67500,)"
            ]
          },
          "metadata": {
            "tags": []
          },
          "execution_count": 6
        }
      ]
    },
    {
      "cell_type": "code",
      "metadata": {
        "colab": {
          "base_uri": "https://localhost:8080/"
        },
        "id": "TS1I1epe3esc",
        "outputId": "37fb684a-8dd1-4f6b-b6f3-a540355421d8"
      },
      "source": [
        "target"
      ],
      "execution_count": 7,
      "outputs": [
        {
          "output_type": "execute_result",
          "data": {
            "text/plain": [
              "array([ 0,  0,  0, ..., 12, 12, 12])"
            ]
          },
          "metadata": {
            "tags": []
          },
          "execution_count": 7
        }
      ]
    },
    {
      "cell_type": "code",
      "metadata": {
        "colab": {
          "base_uri": "https://localhost:8080/",
          "height": 283
        },
        "id": "5At2MkaH3gll",
        "outputId": "f0a48054-d6e3-4421-cf83-27a47e52afaf"
      },
      "source": [
        "unique,count = np.unique(target,return_counts = True)\n",
        "plt.bar(CATEGORIES,count)"
      ],
      "execution_count": 8,
      "outputs": [
        {
          "output_type": "execute_result",
          "data": {
            "text/plain": [
              "<BarContainer object of 13 artists>"
            ]
          },
          "metadata": {
            "tags": []
          },
          "execution_count": 8
        },
        {
          "output_type": "display_data",
          "data": {
            "image/png": "[encoded data removed]",
            "text/plain": [
              "<Figure size 432x288 with 1 Axes>"
            ]
          },
          "metadata": {
            "tags": [],
            "needs_background": "light"
          }
        }
      ]
    },
    {
      "cell_type": "code",
      "metadata": {
        "id": "C2wCDlaz3jF3"
      },
      "source": [
        "from sklearn.model_selection import train_test_split\n",
        "x_train, x_test, y_train, y_test = train_test_split(flat_data, target, test_size=0.7, random_state=109)"
      ],
      "execution_count": 9,
      "outputs": []
    },
    {
      "cell_type": "code",
      "metadata": {
        "id": "yYivHsvt3lXH"
      },
      "source": [
        "from sklearn.model_selection import GridSearchCV\n",
        "from sklearn import svm\n",
        "param_grid = [\n",
        "              {'C': [1,10,100,1000], 'kernel': ['linear']},\n",
        "              {'C': [1,10,100,1000], 'gamma':[0.001,0.0001], 'kernel': ['rbf']},\n",
        "]\n",
        "\n",
        "svc = svm.SVC(probability=True)\n",
        "clf = GridSearchCV(svc,param_grid)\n",
        "clf.fit(x_train,y_train)"
      ],
      "execution_count": null,
      "outputs": []
    },
    {
      "cell_type": "code",
      "metadata": {
        "colab": {
          "base_uri": "https://localhost:8080/"
        },
        "id": "mWrmUAO_9He5",
        "outputId": "483f23ab-56bf-4859-b8b1-7753bb1d09c5"
      },
      "source": [
        "y_pred = clf.predict(x_test)\n",
        "y_pred"
      ],
      "execution_count": null,
      "outputs": [
        {
          "output_type": "execute_result",
          "data": {
            "text/plain": [
              "array([ 1, 12,  0,  7,  9,  3,  3,  0,  2,  2,  3,  6,  1,  2,  8,  3, 12,\n",
              "        2,  8,  0,  9,  2,  2,  8,  2,  3,  1,  2,  3,  1,  2,  1,  0,  1,\n",
              "        4,  2,  0,  3,  2,  2,  2,  1,  4, 11,  4,  0,  0,  5,  1,  3,  0,\n",
              "        0,  1,  2,  9,  8,  3,  3,  9,  9,  1,  7,  3, 10,  2,  3,  2,  1,\n",
              "        3,  0,  0,  0, 10,  8,  1,  0,  2,  2,  3,  3,  8,  3,  4,  2, 10,\n",
              "       10,  1, 12,  3,  9,  0,  2,  1,  8,  8,  2,  9,  8,  0,  4,  8,  9,\n",
              "        0,  5,  3,  3,  2,  3,  3,  0,  0,  2,  9,  8,  2,  3,  1,  2,  2,\n",
              "        1,  0,  3,  9,  2, 10,  1,  2,  3, 10,  2,  3,  0,  0,  3,  1, 11,\n",
              "        1,  4,  2,  1,  2,  2,  5, 10,  0,  2,  2,  3,  3,  1, 10,  3,  3,\n",
              "        2,  3,  6,  2,  2,  4, 10,  4,  2,  1,  1,  0,  1,  2,  2,  3, 10,\n",
              "       12,  3, 12,  1,  9,  1,  3,  0,  3,  5,  2,  2,  0,  9,  1,  0,  0,\n",
              "        4,  2,  7,  3, 10,  2,  1,  2,  0,  1,  8,  2,  1,  3,  2,  8,  2,\n",
              "        2,  2,  1,  3,  9,  0,  9, 10,  9,  3,  2,  1,  9,  0,  3,  1,  2,\n",
              "        1,  8,  0,  0,  2,  8,  2,  9,  2,  8,  1,  8,  3,  3, 10,  8, 10,\n",
              "        2,  9,  2,  0,  3,  4,  1,  4,  9,  8,  2,  3,  3,  0,  2,  1,  1,\n",
              "        5,  0,  3,  0,  3,  1,  9,  2,  2,  8,  2,  8,  2,  1, 10,  0,  9,\n",
              "        1,  7,  1,  2,  9,  9, 12,  0,  3,  3,  9,  3,  2,  1,  3,  2,  2,\n",
              "       11,  0,  2,  2,  2,  0, 10,  0,  0,  0,  8,  2,  0,  4,  1,  2,  2,\n",
              "        0, 12,  2,  2,  2,  9,  8,  0,  8,  3,  2,  9,  1,  0,  3,  0,  2,\n",
              "       12,  3, 11,  2,  2,  1,  2, 10,  9,  9,  3, 12,  3,  6, 10,  0,  1,\n",
              "        5,  2,  0,  9,  3,  2,  9,  3,  2,  2,  0,  3,  1, 12,  2,  7,  3,\n",
              "        2,  4,  0,  7,  1,  0,  0,  9,  1,  3,  2,  3,  0,  1,  3,  1,  3,\n",
              "        0,  9,  8,  3,  2,  2,  2, 10,  0,  1,  2,  0,  8,  3,  3,  4,  6,\n",
              "        1, 11,  2,  0, 12,  1,  0,  2,  1, 11,  9,  3,  2,  9,  3,  1,  2,\n",
              "        2,  6,  0,  2,  0,  0,  2,  2,  3,  1,  9,  2,  2,  8,  9,  0,  1,\n",
              "        1,  1,  3,  2,  1,  0, 10,  1,  3,  2,  2,  2,  2,  1,  3,  4,  0,\n",
              "        2, 11, 12,  2,  1,  1,  3,  2,  2,  0,  3,  2,  2,  1,  5,  0,  0,\n",
              "        1,  8,  3,  1, 10,  8, 10,  2,  1,  3,  1,  1,  9,  2,  1,  1,  3,\n",
              "        2,  1,  0,  0,  0,  2,  9,  2,  2,  2,  2,  9,  2,  9,  3,  1,  2,\n",
              "        7,  3, 10,  2,  2,  0,  0,  2,  3,  2,  2,  9,  5, 12,  3,  1,  0,\n",
              "        3,  9,  2,  9,  8,  3, 10,  0,  2, 12,  3,  2,  3,  0,  3, 10,  9,\n",
              "        1, 11,  2,  9,  9, 12,  9,  0,  2,  2,  2,  0,  6,  3,  3,  3,  4,\n",
              "        5,  9,  2,  6,  0,  0,  8,  1,  4,  0,  9,  2,  9,  3,  9,  2,  8,\n",
              "        1,  8,  3,  2,  0,  1,  8,  2,  1,  1,  2,  2,  1,  1,  1,  9,  4,\n",
              "        1,  9,  9, 10,  1, 11,  9,  3,  2, 10,  2,  4,  2,  9,  9,  2,  2,\n",
              "        0,  2,  2,  2,  2,  9, 12, 12,  0, 12,  3,  0,  0,  2,  8, 10,  2,\n",
              "        2,  2, 10, 10,  2,  9,  0,  2,  2,  0, 11,  0,  0,  3,  2,  3,  2,\n",
              "        1,  1,  4,  2,  2,  1,  1,  9,  8,  0, 12,  2, 10,  2,  5,  2,  2,\n",
              "        1,  2,  0,  1,  0,  1,  3,  8,  2,  3,  1, 12,  9,  9,  2,  1,  3,\n",
              "       10,  2,  9,  4,  2,  9,  0,  7, 10,  2,  2,  0,  2,  1, 10,  3,  1,\n",
              "        3,  2,  2,  8,  9,  1,  2,  2,  8,  9,  3,  2,  5,  0,  1,  0,  3,\n",
              "       10,  2,  9,  0,  8, 10,  2,  3,  2,  2,  2, 11,  2,  0,  3,  0,  0,\n",
              "        3,  0, 10,  4,  3,  2])"
            ]
          },
          "metadata": {
            "tags": []
          },
          "execution_count": 22
        }
      ]
    },
    {
      "cell_type": "code",
      "metadata": {
        "colab": {
          "base_uri": "https://localhost:8080/"
        },
        "id": "tR_yfe_D9JBy",
        "outputId": "e3d2bf3d-08dd-4a3f-9706-211ba433836d"
      },
      "source": [
        "y_test"
      ],
      "execution_count": null,
      "outputs": [
        {
          "output_type": "execute_result",
          "data": {
            "text/plain": [
              "array([ 1, 12,  5,  9,  6, 12,  5,  0,  4,  4,  3,  6,  1,  2, 11,  8, 12,\n",
              "        4,  8,  0,  8,  6,  2, 12,  3,  3,  1,  2,  8,  1,  1,  1,  3,  4,\n",
              "        4, 12,  0,  8,  2, 10,  2, 10, 11,  8,  4,  0,  6, 10,  1,  3,  7,\n",
              "        0,  6,  2, 11,  5,  3,  4, 11,  9,  1,  7,  3, 10,  4,  3,  1,  7,\n",
              "        0,  0,  0,  0,  2,  9,  9,  7,  1,  7,  7,  3, 12,  3,  2,  1, 10,\n",
              "       10, 12,  0,  7,  7,  5,  2,  8,  8,  8, 12, 11, 10, 11,  4,  3,  2,\n",
              "        0, 11,  3,  3,  2,  7,  3, 12,  0,  1,  9,  8,  2,  7,  6,  2,  2,\n",
              "        9,  0,  3,  8, 10,  9,  1,  2,  3, 10,  2,  3, 11, 12,  8,  9, 11,\n",
              "        2,  1,  2,  5,  2,  2,  3, 10,  0, 11, 10,  3,  0,  1,  3,  1,  2,\n",
              "        6,  2,  6,  7,  2,  8, 10,  1,  1,  8,  1,  6,  8,  2,  2,  3,  4,\n",
              "       12,  3, 12,  6, 11,  1,  9,  6,  3, 11, 12, 10,  0,  3,  2,  0,  3,\n",
              "        5,  4,  6,  3, 10,  2,  3, 10,  0,  1,  8,  6, 10,  3,  2,  8, 12,\n",
              "        4,  4,  7,  0,  9,  7,  9,  3, 11,  3,  2,  7,  5,  7,  3,  2,  7,\n",
              "        1,  5, 11,  8,  7,  8,  4,  8,  2,  8, 12,  8,  3,  8, 10,  3,  6,\n",
              "        4,  9,  4, 11,  3,  4, 11,  4,  2,  9,  8, 12, 12, 11,  4,  1,  0,\n",
              "        5,  3,  3, 11,  3,  5,  5,  4,  7, 10, 12,  8,  9,  1, 11,  0,  9,\n",
              "        8,  1,  1,  2, 12,  5,  0, 11,  5,  3, 11,  3,  2,  5,  2, 10,  8,\n",
              "       10,  5, 11,  2,  9,  3,  6,  0,  0,  0,  8,  7,  6,  4,  4,  4,  4,\n",
              "        5,  1,  2,  2,  2, 11,  8,  0, 10,  0,  2,  5,  8,  7,  5,  0, 11,\n",
              "        3,  5,  1,  2,  8, 12,  4,  2,  7,  7,  9, 12,  3,  6,  8,  8,  3,\n",
              "        3, 10,  0,  5,  3,  4,  2, 12,  4,  2,  0,  3,  9,  9,  0,  7,  5,\n",
              "        4,  7, 12,  4,  1,  0,  3,  6, 12,  3,  2,  8,  0, 12,  3,  9,  3,\n",
              "        5,  5, 10,  7, 11,  2,  9,  2,  0,  9,  2,  6,  7,  3,  8,  5,  6,\n",
              "        1,  2,  2,  2, 10,  1,  0,  4, 12,  8,  8,  3,  2, 11,  0, 11,  2,\n",
              "        2,  6,  6,  2,  0,  0,  8,  9,  3,  1,  9,  2, 12,  8,  9,  0,  5,\n",
              "        3, 10,  3,  2,  9,  3,  8,  1,  3,  2,  5,  4,  2,  1,  3,  4,  0,\n",
              "       12,  5,  8, 11,  2,  3,  5,  2,  2,  5,  3,  6,  2,  6, 10,  0,  0,\n",
              "        7,  8,  3, 10,  0,  9, 10,  4, 10,  3,  1, 10,  8,  5,  0, 12,  6,\n",
              "        2,  4,  0,  0,  3,  2,  1,  6,  2,  2,  8,  9,  0,  7,  3,  6,  6,\n",
              "        9, 10, 10,  0,  2,  0,  0,  4, 12, 11, 12,  0,  8, 12,  3,  7,  2,\n",
              "        8,  5,  2,  8, 10,  3, 10,  0,  1,  3,  5,  2,  8,  6, 12,  8,  5,\n",
              "        4, 11,  2,  8,  5, 12,  3,  3,  2,  0,  8,  0,  6, 11,  3,  3,  8,\n",
              "       11, 11, 10,  1,  0,  1,  9,  6,  9,  7,  8, 12,  3,  3, 11,  5, 10,\n",
              "        1,  3, 12,  4,  0,  0,  9,  2,  4, 12,  2,  2,  4,  5,  1,  7,  8,\n",
              "        1,  3, 10, 10,  3,  2, 11,  3,  1,  4,  5,  6,  4,  9,  9,  1,  5,\n",
              "       10,  2,  2,  2,  4,  1,  2,  9,  0, 12,  3,  0,  0,  1,  8,  7,  2,\n",
              "        2, 10, 10,  4,  2,  8,  0,  2,  2,  0,  3,  9,  1,  3,  5,  5,  1,\n",
              "       10, 10,  7,  5,  0,  9,  1,  7,  8,  0, 12,  2, 11, 10,  3,  2,  2,\n",
              "        1,  4,  8,  6,  0,  3, 12,  3,  2,  3,  1, 10,  6,  5, 10, 11,  3,\n",
              "       12, 12, 11, 10,  7,  8,  3,  9, 10,  4,  4,  7,  5,  7, 10,  3,  6,\n",
              "        5,  4,  2,  3, 12, 11, 10,  7,  3,  1,  9,  0,  5,  7, 10,  0,  3,\n",
              "       10,  2,  7,  0,  5, 10,  2,  3,  8,  3,  2, 11,  2,  3, 10,  0,  9,\n",
              "       12,  1, 10,  4,  3, 11])"
            ]
          },
          "metadata": {
            "tags": []
          },
          "execution_count": 23
        }
      ]
    },
    {
      "cell_type": "code",
      "metadata": {
        "id": "Z7XhwfcR9LGB"
      },
      "source": [
        "from sklearn.metrics import accuracy_score,confusion_matrix"
      ],
      "execution_count": null,
      "outputs": []
    },
    {
      "cell_type": "code",
      "metadata": {
        "colab": {
          "base_uri": "https://localhost:8080/"
        },
        "id": "KKY1N31L9MYb",
        "outputId": "d2bb9459-2efe-44b1-8531-64ca65d7c63e"
      },
      "source": [
        "accuracy_score(y_pred,y_test)"
      ],
      "execution_count": null,
      "outputs": [
        {
          "output_type": "execute_result",
          "data": {
            "text/plain": [
              "0.4013888888888889"
            ]
          },
          "metadata": {
            "tags": []
          },
          "execution_count": 25
        }
      ]
    },
    {
      "cell_type": "code",
      "metadata": {
        "colab": {
          "base_uri": "https://localhost:8080/"
        },
        "id": "AqRrKHCE9NpA",
        "outputId": "17e4eea9-e260-408b-b726-365eb419644b"
      },
      "source": [
        "confusion_matrix(y_pred,y_test)"
      ],
      "execution_count": null,
      "outputs": [
        {
          "output_type": "execute_result",
          "data": {
            "text/plain": [
              "array([[51,  3,  2, 10,  0,  6,  7,  8,  3,  2,  1,  7,  3],\n",
              "       [ 3, 29,  4,  6,  6,  5,  8,  6,  5,  8,  9,  4,  8],\n",
              "       [ 6, 11, 76,  2, 29,  8,  6,  8,  7,  4, 12,  7, 10],\n",
              "       [ 5,  1,  3, 58,  1,  9,  1,  5,  9,  3,  2,  1,  9],\n",
              "       [ 0,  2,  1,  0,  8,  2,  1,  2,  3,  1,  1,  1,  0],\n",
              "       [ 0,  0,  0,  3,  0,  2,  0,  0,  1,  0,  2,  3,  0],\n",
              "       [ 0,  1,  0,  0,  0,  0,  6,  0,  0,  0,  0,  0,  0],\n",
              "       [ 0,  1,  0,  0,  1,  0,  1,  2,  0,  3,  0,  0,  0],\n",
              "       [ 0,  0,  0,  6,  0,  3,  0,  1, 16,  5,  6,  1,  2],\n",
              "       [ 1,  3,  3,  4,  0, 10,  3,  7, 10, 11,  1, 12,  2],\n",
              "       [ 1,  0,  3,  2,  3,  0,  2,  1,  3,  1, 18,  2,  1],\n",
              "       [ 0,  1,  2,  1,  0,  1,  0,  0,  2,  0,  1,  3,  0],\n",
              "       [ 2,  1,  1,  2,  0,  0,  0,  0,  1,  2,  2,  0,  9]])"
            ]
          },
          "metadata": {
            "tags": []
          },
          "execution_count": 26
        }
      ]
    },
    {
      "cell_type": "code",
      "metadata": {
        "id": "Oyz_LtuCOtRG"
      },
      "source": [
        "filenames = []\n",
        "\n",
        "target_test = []\n",
        "images_test = []\n",
        "flat_data_test = []\n",
        "\n",
        "\n",
        "path_test = '/content/test'\n",
        "\n",
        "for img in os.listdir(path_test):\n",
        "    if(img.endswith(\"jpg\")):\n",
        "        filenames.append(img)\n",
        "        #print(os.path.join(path,img))\n",
        "        img_array_test = imread(os.path.join(path_test,img))\n",
        "        img_resized_test = resize(img_array_test,(150,150,3))\n",
        "        flat_data_test.append(img_resized_test.flatten())\n",
        "        images_test.append(img_resized_test)\n",
        "\n",
        "flat_data_test = np.array(flat_data_test)\n",
        "images_test = np.array(images_test)"
      ],
      "execution_count": null,
      "outputs": []
    },
    {
      "cell_type": "code",
      "metadata": {
        "colab": {
          "base_uri": "https://localhost:8080/",
          "height": 166
        },
        "id": "IQEDfIXHX6mm",
        "outputId": "c2ad66b3-2de0-4752-dbcd-579ab3c09092"
      },
      "source": [
        "target_test = clf.predict(flat_data_test)"
      ],
      "execution_count": null,
      "outputs": [
        {
          "output_type": "error",
          "ename": "NameError",
          "evalue": "ignored",
          "traceback": [
            "\u001b[0;31m---------------------------------------------------------------------------\u001b[0m",
            "\u001b[0;31mNameError\u001b[0m                                 Traceback (most recent call last)",
            "\u001b[0;32m<ipython-input-1-fbc56b78e028>\u001b[0m in \u001b[0;36m<module>\u001b[0;34m()\u001b[0m\n\u001b[0;32m----> 1\u001b[0;31m \u001b[0mtarget_test\u001b[0m \u001b[0;34m=\u001b[0m \u001b[0mclf\u001b[0m\u001b[0;34m.\u001b[0m\u001b[0mpredict\u001b[0m\u001b[0;34m(\u001b[0m\u001b[0mflat_data_test\u001b[0m\u001b[0;34m)\u001b[0m\u001b[0;34m\u001b[0m\u001b[0;34m\u001b[0m\u001b[0m\n\u001b[0m",
            "\u001b[0;31mNameError\u001b[0m: name 'clf' is not defined"
          ]
        }
      ]
    },
    {
      "cell_type": "code",
      "metadata": {
        "id": "_xxO2n21QaEF"
      },
      "source": [
        "target_test"
      ],
      "execution_count": null,
      "outputs": []
    },
    {
      "cell_type": "code",
      "metadata": {
        "id": "u7VSotSxQbgU"
      },
      "source": [
        "plt.imshow(images_test[0])"
      ],
      "execution_count": null,
      "outputs": []
    },
    {
      "cell_type": "code",
      "metadata": {
        "id": "vdchgMjIQc3h"
      },
      "source": [
        "filenames"
      ],
      "execution_count": null,
      "outputs": []
    },
    {
      "cell_type": "code",
      "metadata": {
        "id": "q2DUdP7PQeFl"
      },
      "source": [
        "target_tes = np.array(target_test)\n",
        "labels = target_tes\n",
        "labels = np.where(labels==0, CATEGORIES[0], labels)\n",
        "labels = np.where(labels==1, CATEGORIES[1], labels)"
      ],
      "execution_count": null,
      "outputs": []
    },
    {
      "cell_type": "code",
      "metadata": {
        "id": "s0MByAC0QfYM"
      },
      "source": [
        "labels"
      ],
      "execution_count": null,
      "outputs": []
    },
    {
      "cell_type": "code",
      "metadata": {
        "id": "gMVX0vacQgVx"
      },
      "source": [
        "import pandas as pd\n",
        "target_tes = pd.DataFrame(target_test)\n",
        "target_tes"
      ],
      "execution_count": null,
      "outputs": []
    },
    {
      "cell_type": "code",
      "metadata": {
        "id": "RyrwuZ3cQhfJ"
      },
      "source": [
        "target_tes = target_tes.replace(0, 'Bag')\n",
        "target_tes = target_tes.replace(1, 'Bat')"
      ],
      "execution_count": null,
      "outputs": []
    },
    {
      "cell_type": "code",
      "metadata": {
        "id": "Ho65IJY2QiiN"
      },
      "source": [
        "target_tes"
      ],
      "execution_count": null,
      "outputs": []
    },
    {
      "cell_type": "code",
      "metadata": {
        "id": "p1yepgw7QjaG"
      },
      "source": [
        "files = pd.DataFrame(filenames)\n",
        "files"
      ],
      "execution_count": null,
      "outputs": []
    },
    {
      "cell_type": "code",
      "metadata": {
        "id": "7S4kh5bpQkl2"
      },
      "source": [
        "output = pd.merge(files, target_tes, left_index=True, right_index= True)\n",
        "output = output.rename(columns={'0_x': 'images', '0_y': 'labels'})\n",
        "output"
      ],
      "execution_count": null,
      "outputs": []
    },
    {
      "cell_type": "code",
      "metadata": {
        "id": "DzTb-wKDQlrc"
      },
      "source": [
        "# To download the csv file locally\n",
        "from google.colab import files\n",
        "df = pd.DataFrame(output)\n",
        "df.to_csv('output.csv', index=False)\n",
        "files.download('output.csv')"
      ],
      "execution_count": null,
      "outputs": []
    }
  ]
}